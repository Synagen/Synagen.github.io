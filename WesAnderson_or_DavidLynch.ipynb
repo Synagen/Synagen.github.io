{
 "cells": [
  {
   "cell_type": "markdown",
   "id": "5eafd0a8",
   "metadata": {},
   "source": [
    "# Who Directed That?"
   ]
  },
  {
   "cell_type": "markdown",
   "id": "bf154c84",
   "metadata": {},
   "source": [
    "## A ML model to detect whether that's a Wes Anderson, or David Lynch movie"
   ]
  },
  {
   "cell_type": "code",
   "execution_count": 2,
   "id": "87c900f9",
   "metadata": {},
   "outputs": [],
   "source": [
    "from fastai.vision import *\n",
    "import os"
   ]
  },
  {
   "cell_type": "markdown",
   "id": "f341eb37",
   "metadata": {},
   "source": [
    "### Gather Data"
   ]
  },
  {
   "cell_type": "code",
   "execution_count": 4,
   "id": "0d975aa7",
   "metadata": {},
   "outputs": [],
   "source": [
    "key = os.environ.get(\"AZURE_SEARCH_KEY\")\n",
    "key"
   ]
  },
  {
   "cell_type": "code",
   "execution_count": null,
   "id": "99a6ef82",
   "metadata": {},
   "outputs": [],
   "source": []
  }
 ],
 "metadata": {
  "kernelspec": {
   "display_name": "pytorch_x86",
   "language": "python",
   "name": "pytorch_x86"
  },
  "language_info": {
   "codemirror_mode": {
    "name": "ipython",
    "version": 3
   },
   "file_extension": ".py",
   "mimetype": "text/x-python",
   "name": "python",
   "nbconvert_exporter": "python",
   "pygments_lexer": "ipython3",
   "version": "3.8.16"
  }
 },
 "nbformat": 4,
 "nbformat_minor": 5
}
